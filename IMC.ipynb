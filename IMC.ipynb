{
  "nbformat": 4,
  "nbformat_minor": 0,
  "metadata": {
    "colab": {
      "provenance": [],
      "authorship_tag": "ABX9TyOXy6l1g06hNuQiGFWz6ur0",
      "include_colab_link": true
    },
    "kernelspec": {
      "name": "python3",
      "display_name": "Python 3"
    },
    "language_info": {
      "name": "python"
    }
  },
  "cells": [
    {
      "cell_type": "markdown",
      "metadata": {
        "id": "view-in-github",
        "colab_type": "text"
      },
      "source": [
        "<a href=\"https://colab.research.google.com/github/Sanped07/estudo_python/blob/main/IMC.ipynb\" target=\"_parent\"><img src=\"https://colab.research.google.com/assets/colab-badge.svg\" alt=\"Open In Colab\"/></a>"
      ]
    },
    {
      "cell_type": "code",
      "execution_count": 8,
      "metadata": {
        "colab": {
          "base_uri": "https://localhost:8080/"
        },
        "id": "4GM3QvIeyLOJ",
        "outputId": "67927efc-aa19-41a9-fdc5-fe829fe270a0"
      },
      "outputs": [
        {
          "output_type": "stream",
          "name": "stdout",
          "text": [
            "Pedro Amaral tem  1.72 de altura,\n",
            "Pesa 72 kg e seu IMC é:  24.337479718766904\n",
            "\n"
          ]
        }
      ],
      "source": [
        "nome = 'Pedro Amaral'\n",
        "altura = 1.72\n",
        "peso = 72\n",
        "imc = peso / (altura**2)\n",
        "\n",
        "print(nome, 'tem ', altura, 'de altura,')\n",
        "print('Pesa', peso, 'kg', 'e seu IMC é: ', imc)\n",
        "print()\n"
      ]
    }
  ]
}